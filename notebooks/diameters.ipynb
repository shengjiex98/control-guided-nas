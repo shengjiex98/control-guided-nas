{
 "cells": [
  {
   "cell_type": "code",
   "execution_count": 2,
   "id": "198fe12e-eb4b-4366-9f4a-9e468f3ffc57",
   "metadata": {},
   "outputs": [
    {
     "name": "stdout",
     "output_type": "stream",
     "text": [
      "Detected IPython. Loading juliacall extension. See https://juliapy.github.io/PythonCall.jl/stable/compat/#IPython\n"
     ]
    }
   ],
   "source": [
    "import numpy as np\n",
    "from juliacall import Main as jl\n",
    "from juliacall import Pkg as jlpkg"
   ]
  },
  {
   "cell_type": "code",
   "execution_count": 3,
   "id": "20cef369-771e-45de-a70f-68f0820204e5",
   "metadata": {},
   "outputs": [
    {
     "name": "stderr",
     "output_type": "stream",
     "text": [
      "   Resolving package versions...\n",
      "  No Changes to `~/miniconda3/envs/ctrl/julia_env/Project.toml`\n",
      "  No Changes to `~/miniconda3/envs/ctrl/julia_env/Manifest.toml`\n",
      "   Resolving package versions...\n",
      "  No Changes to `~/miniconda3/envs/ctrl/julia_env/Project.toml`\n",
      "  No Changes to `~/miniconda3/envs/ctrl/julia_env/Manifest.toml`\n",
      "   Resolving package versions...\n",
      "  No Changes to `~/miniconda3/envs/ctrl/julia_env/Project.toml`\n",
      "  No Changes to `~/miniconda3/envs/ctrl/julia_env/Manifest.toml`\n",
      "    Updating git-repo `https://github.com/shengjiex98/ControlBenchmarks.jl.git`\n",
      "   Resolving package versions...\n",
      "  No Changes to `~/miniconda3/envs/ctrl/julia_env/Project.toml`\n",
      "  No Changes to `~/miniconda3/envs/ctrl/julia_env/Manifest.toml`\n",
      "    Updating git-repo `https://github.com/shengjiex98/NoisyReach.jl.git`\n",
      "   Resolving package versions...\n",
      "  No Changes to `~/miniconda3/envs/ctrl/julia_env/Project.toml`\n",
      "  No Changes to `~/miniconda3/envs/ctrl/julia_env/Manifest.toml`\n"
     ]
    }
   ],
   "source": [
    "jlpkg.add(\"ControlSystemsBase\")\n",
    "jlpkg.add(\"LinearAlgebra\")\n",
    "jlpkg.add(\"ReachabilityAnalysis\")\n",
    "jlpkg.add(url=\"https://github.com/shengjiex98/ControlBenchmarks.jl.git\")\n",
    "jlpkg.add(url=\"https://github.com/shengjiex98/NoisyReach.jl.git\")"
   ]
  },
  {
   "cell_type": "code",
   "execution_count": 4,
   "id": "12d2995c-9122-478c-b6de-a75dc5f8e80b",
   "metadata": {},
   "outputs": [
    {
     "data": {
      "text/plain": [
       "get_max_diam (generic function with 1 method)"
      ]
     },
     "execution_count": 4,
     "metadata": {},
     "output_type": "execute_result"
    }
   ],
   "source": [
    "jl.include(\"../src/get_max_diam.jl\")"
   ]
  },
  {
   "cell_type": "code",
   "execution_count": 24,
   "id": "9defe15d-27fa-4291-803b-2bbb6dede061",
   "metadata": {},
   "outputs": [],
   "source": [
    "sys = jl.seval(\"using ControlBenchmarks; benchmarks[:F1]\")\n",
    "x0center = np.asarray([10., 10.])\n",
    "x0size = np.asarray([1., 1.])"
   ]
  },
  {
   "cell_type": "code",
   "execution_count": 25,
   "id": "a3b19e79-157e-46f6-84e9-47bb04c9cd45",
   "metadata": {},
   "outputs": [],
   "source": [
    "def get_diam_from_julia(latency: float, errors: list[float]):\n",
    "    return jl.get_max_diam(sys, latency, errors, x0center, x0size)"
   ]
  },
  {
   "cell_type": "code",
   "execution_count": 29,
   "id": "2492c16a-a0f1-4f20-8675-e3700536a392",
   "metadata": {},
   "outputs": [
    {
     "data": {
      "text/plain": [
       "2.2787975085278234"
      ]
     },
     "execution_count": 29,
     "metadata": {},
     "output_type": "execute_result"
    }
   ],
   "source": [
    "get_diam_from_julia(0.02, np.asarray([0.27, 0.27]))"
   ]
  }
 ],
 "metadata": {
  "kernelspec": {
   "display_name": "Python 3 (ipykernel)",
   "language": "python",
   "name": "python3"
  },
  "language_info": {
   "codemirror_mode": {
    "name": "ipython",
    "version": 3
   },
   "file_extension": ".py",
   "mimetype": "text/x-python",
   "name": "python",
   "nbconvert_exporter": "python",
   "pygments_lexer": "ipython3",
   "version": "3.11.2"
  }
 },
 "nbformat": 4,
 "nbformat_minor": 5
}
