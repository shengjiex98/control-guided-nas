{
 "cells": [
  {
   "cell_type": "code",
   "execution_count": 34,
   "id": "198fe12e-eb4b-4366-9f4a-9e468f3ffc57",
   "metadata": {},
   "outputs": [],
   "source": [
    "import numpy as np\n",
    "import juliacall\n",
    "from juliacall import Main as jl\n",
    "from juliacall import Pkg as jlpkg"
   ]
  },
  {
   "cell_type": "code",
   "execution_count": 8,
   "id": "20cef369-771e-45de-a70f-68f0820204e5",
   "metadata": {},
   "outputs": [
    {
     "name": "stderr",
     "output_type": "stream",
     "text": [
      "   Resolving package versions...\n",
      "  No Changes to `~/miniconda3/envs/ctrl/julia_env/Project.toml`\n",
      "  No Changes to `~/miniconda3/envs/ctrl/julia_env/Manifest.toml`\n",
      "   Resolving package versions...\n",
      "  No Changes to `~/miniconda3/envs/ctrl/julia_env/Project.toml`\n",
      "  No Changes to `~/miniconda3/envs/ctrl/julia_env/Manifest.toml`\n",
      "    Updating git-repo `https://github.com/shengjiex98/ControlBenchmarks.jl.git`\n",
      "   Resolving package versions...\n",
      "    Updating `~/miniconda3/envs/ctrl/julia_env/Project.toml`\n",
      "  [fae2e0ce] + ControlBenchmarks v1.0.0-DEV `https://github.com/shengjiex98/ControlBenchmarks.jl.git#main`\n",
      "    Updating `~/miniconda3/envs/ctrl/julia_env/Manifest.toml`\n",
      "  [fae2e0ce] + ControlBenchmarks v1.0.0-DEV `https://github.com/shengjiex98/ControlBenchmarks.jl.git#main`\n",
      "    Updating git-repo `https://github.com/shengjiex98/NoisyReach.jl.git`\n",
      "   Resolving package versions...\n",
      "  No Changes to `~/miniconda3/envs/ctrl/julia_env/Project.toml`\n",
      "  No Changes to `~/miniconda3/envs/ctrl/julia_env/Manifest.toml`\n"
     ]
    }
   ],
   "source": [
    "jlpkg.add(\"ControlSystemsBase\")\n",
    "jlpkg.add(\"LinearAlgebra\")\n",
    "jlpkg.add(url=\"https://github.com/shengjiex98/ControlBenchmarks.jl.git\")\n",
    "jlpkg.add(url=\"https://github.com/shengjiex98/NoisyReach.jl.git\")"
   ]
  },
  {
   "cell_type": "code",
   "execution_count": 17,
   "id": "12d2995c-9122-478c-b6de-a75dc5f8e80b",
   "metadata": {},
   "outputs": [],
   "source": [
    "jl.seval(\"using ControlBenchmarks\")\n",
    "sys = jl.seval(\"benchmarks[:F1]\")\n",
    "get_max_diam = jl.include(\"./get_max_diam.jl\")"
   ]
  },
  {
   "cell_type": "code",
   "execution_count": 29,
   "id": "9defe15d-27fa-4291-803b-2bbb6dede061",
   "metadata": {},
   "outputs": [
    {
     "data": {
      "text/plain": [
       "juliacall.VectorValue"
      ]
     },
     "execution_count": 29,
     "metadata": {},
     "output_type": "execute_result"
    }
   ],
   "source": [
    "type(jl.seval(\"[1., 2.]\"))"
   ]
  },
  {
   "cell_type": "code",
   "execution_count": 38,
   "id": "a3b19e79-157e-46f6-84e9-47bb04c9cd45",
   "metadata": {},
   "outputs": [],
   "source": [
    "def get_diam_from_julia(latency: float, errors: list[float]):\n",
    "    jl_errors = juliacall.convert(, errors)\n",
    "    return get_max_diam(sys, latency, errors, [10., 10.], [1., 1.])"
   ]
  },
  {
   "cell_type": "code",
   "execution_count": 39,
   "id": "2492c16a-a0f1-4f20-8675-e3700536a392",
   "metadata": {},
   "outputs": [
    {
     "ename": "AttributeError",
     "evalue": "module 'juliacall' has no attribute 'Vector'",
     "output_type": "error",
     "traceback": [
      "\u001b[0;31m---------------------------------------------------------------------------\u001b[0m",
      "\u001b[0;31mAttributeError\u001b[0m                            Traceback (most recent call last)",
      "Cell \u001b[0;32mIn[39], line 1\u001b[0m\n\u001b[0;32m----> 1\u001b[0m get_diam_from_julia(\u001b[38;5;241m0.02\u001b[39m, [\u001b[38;5;241m0.27\u001b[39m, \u001b[38;5;241m0.27\u001b[39m])\n",
      "Cell \u001b[0;32mIn[38], line 2\u001b[0m, in \u001b[0;36mget_diam_from_julia\u001b[0;34m(latency, errors)\u001b[0m\n\u001b[1;32m      1\u001b[0m \u001b[38;5;28;01mdef\u001b[39;00m \u001b[38;5;21mget_diam_from_julia\u001b[39m(latency: \u001b[38;5;28mfloat\u001b[39m, errors: \u001b[38;5;28mlist\u001b[39m[\u001b[38;5;28mfloat\u001b[39m]):\n\u001b[0;32m----> 2\u001b[0m     jl_errors \u001b[38;5;241m=\u001b[39m juliacall\u001b[38;5;241m.\u001b[39mconvert(juliacall\u001b[38;5;241m.\u001b[39mVector, errors)\n\u001b[1;32m      3\u001b[0m     \u001b[38;5;28;01mreturn\u001b[39;00m get_max_diam(sys, latency, errors, [\u001b[38;5;241m10.\u001b[39m, \u001b[38;5;241m10.\u001b[39m], [\u001b[38;5;241m1.\u001b[39m, \u001b[38;5;241m1.\u001b[39m])\n",
      "\u001b[0;31mAttributeError\u001b[0m: module 'juliacall' has no attribute 'Vector'"
     ]
    }
   ],
   "source": [
    "get_diam_from_julia(0.02, [0.27, 0.27])"
   ]
  },
  {
   "cell_type": "code",
   "execution_count": null,
   "id": "be1d5fdc-ea1b-49ef-9125-a29ba138ec94",
   "metadata": {},
   "outputs": [],
   "source": []
  }
 ],
 "metadata": {
  "kernelspec": {
   "display_name": "Python 3 (ipykernel)",
   "language": "python",
   "name": "python3"
  },
  "language_info": {
   "codemirror_mode": {
    "name": "ipython",
    "version": 3
   },
   "file_extension": ".py",
   "mimetype": "text/x-python",
   "name": "python",
   "nbconvert_exporter": "python",
   "pygments_lexer": "ipython3",
   "version": "3.11.2"
  }
 },
 "nbformat": 4,
 "nbformat_minor": 5
}
